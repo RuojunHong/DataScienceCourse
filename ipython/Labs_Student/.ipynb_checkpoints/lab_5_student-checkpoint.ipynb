{
 "cells": [
  {
   "cell_type": "markdown",
   "metadata": {
    "deletable": true,
    "editable": true
   },
   "source": [
    "# Decision Tree Classifiers\n",
    "<p>This Notebook gives an overview of DecisionTrees with scikit learn. In it are examples of:\n",
    "\n",
    "<ul>\n",
    "<li>Build a basic decision tree</li>\n",
    "<li>Plotting the decision surface of a decision tree</li>\n",
    "<li>Visualing the decision tree</li>\n",
    "<li>Overfitting (as viewed by decision surfaces) of decision trees with no limits on depth and leaf size</li>\n",
    "<li>Searching for optimal parameters of a decision tree</li>\n",
    "<li>Using decision tree output to assess feature importance</li>\n",
    "</ul>\n",
    "\n",
    "</p>"
   ]
  },
  {
   "cell_type": "markdown",
   "metadata": {
    "deletable": true,
    "editable": true
   },
   "source": [
    "### Build a Tree on Simulated Data"
   ]
  },
  {
   "cell_type": "code",
   "execution_count": null,
   "metadata": {
    "collapsed": false,
    "deletable": true,
    "editable": true
   },
   "outputs": [],
   "source": [
    "import pandas as pd\n",
    "import numpy as np\n",
    "import scipy as sp\n",
    "import matplotlib.pyplot as plt\n",
    "\n",
    "#These all need to be installed to both run and visualize a tree\n",
    "from sklearn.tree import DecisionTreeClassifier\n",
    "from sklearn.tree import export_graphviz\n",
    "from IPython.display import Image\n",
    "%matplotlib inline\n"
   ]
  },
  {
   "cell_type": "markdown",
   "metadata": {
    "deletable": true,
    "editable": true
   },
   "source": [
    "<p>Here I generate some random data $X=<X1,X2>$ with $Y \\in [0,1]$\n",
    "</p>"
   ]
  },
  {
   "cell_type": "code",
   "execution_count": null,
   "metadata": {
    "collapsed": false,
    "deletable": true,
    "editable": true
   },
   "outputs": [],
   "source": [
    "'''\n",
    "Random data example \n",
    "'''\n",
    "n = 200\n",
    "\n",
    "\n",
    "#First Generate the data\n",
    "\n",
    "m = [[0.25, 0.75], [0.75, 0.75], [0.75, 0.25], [0.25, 0.25]]\n",
    "s = .1\n",
    "X1 = pd.DataFrame(np.random.multivariate_normal([m[0][0], m[0][1]], [[s,0],[0,s]],n), columns=['x1','x2'])\n",
    "X1['y'] = np.zeros(n)\n",
    "X2 = pd.DataFrame(np.random.multivariate_normal([m[1][0],m[1][1]], [[s,0],[0,s]],n), columns=['x1','x2'])\n",
    "X2['y'] = np.zeros(n)\n",
    "X3=pd.DataFrame(np.random.multivariate_normal([m[2][0],m[2][1]], [[s,0],[0,s]],n), columns=['x1','x2'])\n",
    "X3['y'] = np.ones(n)\n",
    "X4 = pd.DataFrame(np.random.multivariate_normal([m[3][0],m[3][1]], [[s,0],[0,s]],n), columns=['x1','x2'])\n",
    "X4['y'] = np.zeros(n)\n",
    "\n",
    "dat = X1.append(X2, ignore_index=True)\n",
    "dat = dat.append(X3, ignore_index=True)\n",
    "dat = dat.append(X4, ignore_index=True)\n",
    "\n",
    "plt.plot(dat['x1'][(dat['y']==1)], dat['x2'][(dat['y']==1)],'r.')\n",
    "plt.plot(dat['x1'][(dat['y']==0)], dat['x2'][(dat['y']==0)],'b.')"
   ]
  },
  {
   "cell_type": "markdown",
   "metadata": {
    "deletable": true,
    "editable": true
   },
   "source": [
    "<p>\n",
    "\n",
    "</p>"
   ]
  },
  {
   "cell_type": "markdown",
   "metadata": {
    "deletable": true,
    "editable": true
   },
   "source": [
    "<p>\n",
    "Now lets build a tree on our sample data.<br><br>\n",
    "\n",
    "Documentation can be found here:\n",
    "http://scikit-learn.org/stable/modules/generated/sklearn.tree.DecisionTreeClassifier.html#sklearn.tree.DecisionTreeClassifier\n",
    "<br>\n",
    "Also, here is another useful example:\n",
    "http://nbviewer.ipython.org/github/sujitpal/statlearning-notebooks/blob/master/src/chapter8.ipynb\n",
    "\n",
    "</p>"
   ]
  },
  {
   "cell_type": "code",
   "execution_count": null,
   "metadata": {
    "collapsed": false,
    "deletable": true,
    "editable": true
   },
   "outputs": [],
   "source": [
    "#We want Entropy as our splitting criteria\n",
    "clf = DecisionTreeClassifier(criterion='entropy', min_samples_leaf = 1, max_depth = 3)\n",
    "clf = clf.fit(dat.drop('y',1), dat.y)"
   ]
  },
  {
   "cell_type": "markdown",
   "metadata": {
    "deletable": true,
    "editable": true
   },
   "source": [
    "<p>Building a tree is pretty easy. Visualizing the tree takes a little extra work.\n",
    "</p>"
   ]
  },
  {
   "cell_type": "code",
   "execution_count": null,
   "metadata": {
    "collapsed": false,
    "deletable": true,
    "editable": true
   },
   "outputs": [],
   "source": [
    "X = dat.drop('y',1)\n",
    "y = dat.y\n",
    "\n",
    "plot_step = 0.02\n",
    "\n",
    "x_min, x_max = X['x1'].min(), X['x1'].max()\n",
    "y_min, y_max = X['x2'].min(), X['x2'].max()\n",
    "xx, yy = np.meshgrid(np.arange(x_min, x_max, plot_step),np.arange(y_min, y_max, plot_step))\n",
    "\n",
    "Z = clf.predict(np.c_[xx.ravel(), yy.ravel()])\n",
    "Z = Z.reshape(xx.shape)\n",
    "\n",
    "\n",
    "plt.subplot(111)\n",
    "\n",
    "cs = plt.contourf(xx, yy, Z, cmap=plt.cm.cool)\n",
    "plt.plot(dat['x1'][(dat['y']==1)],dat['x2'][(dat['y']==1)],'r.')\n",
    "plt.plot(dat['x1'][(dat['y']==0)],dat['x2'][(dat['y']==0)],'b.')\n"
   ]
  },
  {
   "cell_type": "markdown",
   "metadata": {
    "deletable": true,
    "editable": true
   },
   "source": [
    "<p>The above is a pretty simple tree, which we can see in the above plot.<br><br>\n",
    "\n",
    "As we allow for more complex trees, visualing the tree becomes very cumbersome, but we can still look at the decision surface. \n",
    "\n",
    "\n",
    "</p>"
   ]
  },
  {
   "cell_type": "code",
   "execution_count": null,
   "metadata": {
    "collapsed": false,
    "deletable": true,
    "editable": true
   },
   "outputs": [],
   "source": [
    "def treeComplex(X, y, leaf, dep, i):\n",
    "    clf = DecisionTreeClassifier(criterion = 'entropy', min_samples_leaf = leaf, max_depth = dep)\n",
    "    clf = clf.fit(X, y)\n",
    "    plot_step = 0.02\n",
    "    x_min, x_max = X['x1'].min(), X['x1'].max()\n",
    "    y_min, y_max = X['x2'].min(), X['x2'].max()\n",
    "    xx, yy = np.meshgrid(np.arange(x_min, x_max, plot_step), np.arange(y_min, y_max, plot_step))\n",
    "    Z = clf.predict(np.c_[xx.ravel(), yy.ravel()])\n",
    "    Z = Z.reshape(xx.shape)\n",
    "\n",
    "    ax = fig.add_subplot(3, 3, i)\n",
    "    cs = plt.contourf(xx, yy, Z, cmap = plt.cm.cool)\n",
    "    ax.axes.get_xaxis().set_visible(False)\n",
    "    ax.axes.get_yaxis().set_visible(False)\n",
    "    plt.title('Dep={},Leaf={}'.format(dep, leaf))\n",
    "              \n",
    "leafs=[100, 10, 1]\n",
    "deps=[3, 10, 50]\n",
    "\n",
    "i=1\n",
    "fig=plt.figure()\n",
    "\n",
    "for l in leafs:\n",
    "    for d in deps:\n",
    "        treeComplex(dat.drop('y',1), dat.y, l, d, i)\n",
    "        i+=1\n",
    "        \n",
    "fig.tight_layout()\n"
   ]
  },
  {
   "cell_type": "markdown",
   "metadata": {
    "deletable": true,
    "editable": true
   },
   "source": [
    "<p>As we let the trees grow without any restrictions, we notice that the decision surface gets very fragmented. This defies our intuition that nearest neighbors of a point should have the same class assignment. Since we know that this data was generated from a few simple normal mixtures, we should understand that these more complex surfaces are terribly over fit.\n",
    "<br><br>\n",
    "Beyond toy examples, let's see this on real data.\n",
    "</p>\n",
    "\n",
    "### Decision Tree on Real Data\n",
    "<p>We don't just want to build a tree, we want to optimize the configuration of the tree. We'll use AUC as a metric on our test set and vary the max_depth and min_leaf_size. <br><br>\n",
    "\n",
    "The underlying data has a very rare outcome (less than 5%) so we'll down sample the data first to reach a 50/50 split.\n",
    "\n",
    "\n",
    "</p>"
   ]
  },
  {
   "cell_type": "code",
   "execution_count": null,
   "metadata": {
    "collapsed": true,
    "deletable": true,
    "editable": true
   },
   "outputs": [],
   "source": [
    "from sklearn.metrics import confusion_matrix, roc_auc_score\n",
    "import sys"
   ]
  },
  {
   "cell_type": "code",
   "execution_count": null,
   "metadata": {
    "collapsed": false,
    "deletable": true,
    "editable": true
   },
   "outputs": [],
   "source": [
    "#Load data and downsample for a 50/50 split, then split into a train/test\n",
    "f = 'C:/Users/kevin/Documents/GitHub/DataScienceCourse/ipython/Labs_Student/ads_dataset_cut.txt'\n",
    "\n",
    "train_split = 0.5\n",
    "tdat = pd.read_csv(f, header = 0, sep = '\\t')\n",
    "\n",
    "tdat.describe()"
   ]
  },
  {
   "cell_type": "code",
   "execution_count": null,
   "metadata": {
    "collapsed": false,
    "deletable": true,
    "editable": true
   },
   "outputs": [],
   "source": [
    "##this is a specialized function I've written to downsample the data\n",
    "def downSample(dat,fld,mult):\n",
    "    '''\n",
    "    Evenly splits the data on a given binary field, returns a shuffled dataframe\n",
    "    '''\n",
    "    pos=dat[(dat[fld]==1)]\n",
    "    neg=dat[(dat[fld]==0)]\n",
    "    neg_shuf=neg.reindex(np.random.permutation(neg.index))\n",
    "    tot=min(pos.shape[0]*mult,neg.shape[0])\n",
    "    fin_temp=pos.append(neg_shuf[:tot],ignore_index=True)\n",
    "    fin_temp=fin_temp.reindex(np.random.permutation(fin_temp.index))\n",
    "    return fin_temp\n",
    "\n",
    "\n",
    "moddat = downSample(tdat, 'y_buy', 1)\n"
   ]
  },
  {
   "cell_type": "code",
   "execution_count": null,
   "metadata": {
    "collapsed": false,
    "deletable": true,
    "editable": true
   },
   "outputs": [],
   "source": [
    "moddat.describe()"
   ]
  },
  {
   "cell_type": "code",
   "execution_count": null,
   "metadata": {
    "collapsed": true,
    "deletable": true,
    "editable": true
   },
   "outputs": [],
   "source": [
    "\n",
    "#We know the dataset is shuffled so we can just split by index\n",
    "train = moddat[:int(np.floor(moddat.shape[0] * train_split))]\n",
    "test = moddat[int(np.floor(moddat.shape[0] * train_split)):]\n"
   ]
  },
  {
   "cell_type": "code",
   "execution_count": null,
   "metadata": {
    "collapsed": false,
    "deletable": true,
    "editable": true
   },
   "outputs": [],
   "source": [
    "\n",
    "\n",
    "def testTrees(X_train, y_train, X_test, y_test, dep, leaf, auc):\n",
    "    clf = DecisionTreeClassifier(criterion='entropy', min_samples_leaf = leaf, max_depth = dep)\n",
    "    clf = clf.fit(X_train, y_train)\n",
    "    if (auc==0):\n",
    "        cm = confusion_matrix(clf.predict(X_test), y_test)\n",
    "        return (cm[0][0] + cm[1][1]) / float(sum(cm))\n",
    "    else:\n",
    "        return roc_auc_score(y_test, clf.predict_proba(X_test)[:,1])\n",
    "    \n",
    "\n",
    "    "
   ]
  },
  {
   "cell_type": "code",
   "execution_count": null,
   "metadata": {
    "collapsed": false,
    "deletable": true,
    "editable": true
   },
   "outputs": [],
   "source": [
    "lab = 'y_buy'\n",
    "\n",
    "depths = [4, 5, 10, 20]\n",
    "leaves = np.arange(1, 101)\n",
    "\n",
    "#Run all of the options\n",
    "run=1\n",
    "if (run == 1):\n",
    "    #Initialize dictionary of results\n",
    "    res = dict()\n",
    "    for d in depths:\n",
    "        res[d] = list()\n",
    "\n",
    "    #Now train and get results for each option\n",
    "    for d in depths:\n",
    "        for l in leaves:\n",
    "            res[d].append(testTrees(train.drop(lab, 1), train[lab], test.drop(lab, 1), test[lab], d, l, 1))\n",
    "\n",
    "\n",
    "#Now plot            \n",
    "fig = plt.figure()\n",
    "ax=fig.add_subplot(111)\n",
    "plt.plot(leaves,res[depths[0]], 'b-', label = 'Depth={}'.format(depths[0]))\n",
    "plt.plot(leaves,res[depths[1]], 'r-', label = 'Depth={}'.format(depths[1]))\n",
    "plt.plot(leaves,res[depths[2]], 'y-', label = 'Depth={}'.format(depths[2]))\n",
    "plt.plot(leaves,res[depths[3]], 'g-', label = 'Depth={}'.format(depths[3]))\n",
    "plt.legend(loc = 4)\n",
    "ax.set_xlabel('Min Leaf Size')\n",
    "ax.set_ylabel('Test Set AUC')\n",
    "plt.title('Holdout AUC by Hyperparameters')"
   ]
  },
  {
   "cell_type": "markdown",
   "metadata": {
    "deletable": true,
    "editable": true
   },
   "source": [
    "<p>The above plot shows how holdout AUC varies by parameters. As we generally expect with most hyper-parameter searches, there is a \"sweet spot\" between letting the model be flexible and over fitting. Here we see that as long as we restrict the min_leaf_size, the max_depth doesn't affect the optimal choice too much.<br><br>\n",
    "\n",
    "We might want to peek at the tree to determine which features it thinks are important. The DT class objects actually have an attribute that gives each feature a score for how important it is in building the tree. \n",
    "\n",
    "\n",
    "</p>"
   ]
  },
  {
   "cell_type": "code",
   "execution_count": null,
   "metadata": {
    "collapsed": false,
    "deletable": true,
    "editable": true
   },
   "outputs": [],
   "source": [
    "'''\n",
    "The tree gives us a useful tool for analying feature importance\n",
    "'''\n",
    "\n",
    "clf = DecisionTreeClassifier(criterion = 'entropy', min_samples_leaf = 100, max_depth = 20)\n",
    "clf = clf.fit(train.drop(lab, 1), train[lab])\n",
    "\n",
    "\n",
    "fig, ax = plt.subplots()\n",
    "width = 0.35\n",
    "#ax.bar(train.drop(lab,1).columns.values, clf.feature_importances_, width, color='r')\n",
    "ax.bar(np.arange(13), clf.feature_importances_, width, color = 'r')\n",
    "ax.set_xticks(np.arange(len(clf.feature_importances_)))\n",
    "ax.set_xticklabels(train.drop(lab,1).columns.values, rotation = 90)\n",
    "plt.title('Feature Importance from DT')\n",
    "ax.set_ylabel('Normalized Gini Importance')\n",
    "\n"
   ]
  },
  {
   "cell_type": "code",
   "execution_count": null,
   "metadata": {
    "collapsed": true,
    "deletable": true,
    "editable": true
   },
   "outputs": [],
   "source": []
  },
  {
   "cell_type": "code",
   "execution_count": null,
   "metadata": {
    "collapsed": true
   },
   "outputs": [],
   "source": []
  },
  {
   "cell_type": "code",
   "execution_count": null,
   "metadata": {
    "collapsed": true
   },
   "outputs": [],
   "source": []
  }
 ],
 "metadata": {
  "anaconda-cloud": {},
  "kernelspec": {
   "display_name": "Python 3",
   "language": "python",
   "name": "python3"
  },
  "language_info": {
   "codemirror_mode": {
    "name": "ipython",
    "version": 3
   },
   "file_extension": ".py",
   "mimetype": "text/x-python",
   "name": "python",
   "nbconvert_exporter": "python",
   "pygments_lexer": "ipython3",
   "version": "3.6.0"
  }
 },
 "nbformat": 4,
 "nbformat_minor": 0
}
